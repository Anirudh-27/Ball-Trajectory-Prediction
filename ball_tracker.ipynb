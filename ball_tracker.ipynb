{
 "cells": [
  {
   "cell_type": "code",
   "execution_count": 8,
   "metadata": {},
   "outputs": [
    {
     "name": "stdout",
     "output_type": "stream",
     "text": [
      "True\n"
     ]
    }
   ],
   "source": [
    "import cv2\n",
    "import numpy as np\n",
    "cap = cv2.VideoCapture(r\"C:\\Users\\aniru\\Downloads\\DIP_DRS\\23_blur.mov\")\n",
    "fourcc = cv2.VideoWriter_fourcc(*'XVID')\n",
    "##out = cv2.VideoWriter('output.avi', fourcc, 20.0, (640,480))\n",
    "output = np.zeros((1920, 1080))\n",
    "print(cap.isOpened()) \n",
    "frame_count = 0\n",
    "while(cap.isOpened()):\n",
    "    ret, frame = cap.read()\n",
    "    if ret == True:\n",
    "        \n",
    "        ##images.append(frame)\n",
    "\n",
    "        gray = cv2.cvtColor(frame, cv2.COLOR_BGR2GRAY)\n",
    "        _, th1 = cv2.threshold(gray, 70, 255, cv2.THRESH_BINARY_INV)\n",
    "\n",
    "        frame_org = th1\n",
    "        \n",
    "        break\n",
    "\n",
    "\n",
    "cv2.destroyAllWindows()"
   ]
  },
  {
   "cell_type": "code",
   "execution_count": 10,
   "metadata": {},
   "outputs": [
    {
     "name": "stdout",
     "output_type": "stream",
     "text": [
      "True\n"
     ]
    }
   ],
   "source": [
    "\n",
    "images = []\n",
    "cap = cv2.VideoCapture(r\"C:\\Users\\aniru\\Downloads\\DIP_DRS\\23_blur.mov\")\n",
    "fourcc = cv2.VideoWriter_fourcc(*'XVID')\n",
    "##out = cv2.VideoWriter('output.avi', fourcc, 20.0, (640,480))\n",
    "output = np.zeros((1920, 1080))\n",
    "print(cap.isOpened()) \n",
    "frame_count = 0\n",
    "while(cap.isOpened()):\n",
    "    ret, frame = cap.read()\n",
    "    if ret == True:\n",
    "        \n",
    "        ##images.append(frame)\n",
    "\n",
    "        gray = cv2.cvtColor(frame, cv2.COLOR_BGR2GRAY)\n",
    "        _, th1 = cv2.threshold(gray, 70, 255, cv2.THRESH_BINARY_INV)\n",
    "        #laplacian = cv2.Laplacian(th1,cv2.CV_64F)\n",
    "        final = cv2.bitwise_and(cv2.bitwise_not(frame_org),th1)\n",
    "        ##median_blur= cv2.medianBlur(final, 3)\n",
    "        median_blur= cv2.medianBlur(final, 5)\n",
    "        median_blur= cv2.medianBlur(median_blur, 5)\n",
    "        \n",
    "        images.append(median_blur)\n",
    "        \n",
    "        cv2.imshow('median_blur', images[frame_count])  \n",
    "        #cv2.imshow(\"edge\",final)\n",
    "        frame_count+=1\n",
    "        if cv2.waitKey(1) & 0xFF == ord('q'):\n",
    "            break\n",
    "    else:\n",
    "        break\n",
    "\n",
    "cap.release()\n",
    "cv2.destroyAllWindows()"
   ]
  },
  {
   "cell_type": "code",
   "execution_count": null,
   "metadata": {},
   "outputs": [],
   "source": [
    "out = cv2.VideoWriter('tspot.mov',cv2.VideoWriter_fourcc(*'BA81'), 60, (1920,1080))\n",
    " \n",
    "for i in range(len(images)):\n",
    "    out.write(images[i])\n",
    "out.release()"
   ]
  },
  {
   "cell_type": "code",
   "execution_count": 13,
   "metadata": {},
   "outputs": [],
   "source": [
    "contour_vid = []\n",
    "for img in images :\n",
    "    _,contours, hierarchy = cv2.findContours(img, cv2.RETR_TREE, cv2.CHAIN_APPROX_NONE)\n",
    "    cv2.drawContours(img, contours, -1, (0, 255, 0), 3)\n",
    "    contour_vid.append(img)\n"
   ]
  },
  {
   "cell_type": "code",
   "execution_count": null,
   "metadata": {},
   "outputs": [],
   "source": [
    "for c in contour_vid :\n",
    "    "
   ]
  },
  {
   "cell_type": "code",
   "execution_count": 14,
   "metadata": {},
   "outputs": [],
   "source": [
    "out = cv2.VideoWriter('xoldspot.mov',cv2.VideoWriter_fourcc(*'BA81'), 60, (1920,1080))\n",
    " \n",
    "for i in range(len(contour_vid)):\n",
    "    out.write(contour_vid[i])\n",
    "out.release()"
   ]
  },
  {
   "cell_type": "code",
   "execution_count": null,
   "metadata": {},
   "outputs": [],
   "source": []
  }
 ],
 "metadata": {
  "kernelspec": {
   "display_name": "Python 3",
   "language": "python",
   "name": "python3"
  },
  "language_info": {
   "codemirror_mode": {
    "name": "ipython",
    "version": 3
   },
   "file_extension": ".py",
   "mimetype": "text/x-python",
   "name": "python",
   "nbconvert_exporter": "python",
   "pygments_lexer": "ipython3",
   "version": "3.7.3"
  }
 },
 "nbformat": 4,
 "nbformat_minor": 4
}
